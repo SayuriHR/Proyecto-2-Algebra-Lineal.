{
  "nbformat": 4,
  "nbformat_minor": 0,
  "metadata": {
    "colab": {
      "name": "Proyecto 2 Algebra Lineal.ipynb",
      "provenance": []
    },
    "kernelspec": {
      "name": "python3",
      "display_name": "Python 3"
    },
    "language_info": {
      "name": "python"
    }
  },
  "cells": [
    {
      "cell_type": "markdown",
      "source": [
        "**HERNANDEZ RUBIO DAIRA SAYURI**\n",
        "\n",
        "**PROYECTO 2**\n",
        "\n",
        "**CALCULO DE LA INVERSA DE UNA MATRIZ Y SU DETERMINANTE** "
      ],
      "metadata": {
        "id": "PiBbyOREVsaZ"
      }
    },
    {
      "cell_type": "markdown",
      "source": [
        "CALCULA LA INEVERSA DE UNA MATRIZ "
      ],
      "metadata": {
        "id": "8MNrdWklVmec"
      }
    },
    {
      "cell_type": "code",
      "execution_count": 36,
      "metadata": {
        "id": "RQPq2wQTLC6H",
        "colab": {
          "base_uri": "https://localhost:8080/"
        },
        "outputId": "636282fb-a534-47e0-f25f-e1af21ec3ddc"
      },
      "outputs": [
        {
          "output_type": "stream",
          "name": "stdout",
          "text": [
            "Numero de renglones: 2\n",
            "Numero de columnas: 2\n",
            "Introduce la matriz de coeficientes\n",
            "Elemento a[1,1] -7\n",
            "Elemento a[1,2] 33\n",
            "Elemento a[2,1] 4\n",
            "Elemento a[2,2] -19\n",
            "[[ -7.  33.]\n",
            " [  4. -19.]]\n",
            "LA INVERSA DE LA MATRIZ ES: \n"
          ]
        },
        {
          "output_type": "execute_result",
          "data": {
            "text/plain": [
              "array([[-19., -33.],\n",
              "       [ -4.,  -7.]])"
            ]
          },
          "metadata": {},
          "execution_count": 36
        }
      ],
      "source": [
        "import numpy as np\n",
        "a= int(input('Numero de renglones: '))  #Aqui pedimos al usario el numero de renglones y columnas  \n",
        "b= int(input('Numero de columnas: '))\n",
        "matriz = numpy.zeros((a,b))     #es para llenar la matriz con ceros \n",
        "vector= numpy.zeros((b))        #alamcenar los valores del vector \n",
        "x=numpy.zeros((a))              #alamcenar los resultados despues del proceso de operacion \n",
        "print('Introduce la matriz de coeficientes')\n",
        "\n",
        "for r in range(0,a):        #r= son los renglones\n",
        "    for c in range(0,b):    #c = son las columnas \n",
        "        matriz[(r),(c)]=(input(\"Elemento a[\"+str(r+1)+\",\"+str(c+1)+\"] \"))   #escribir los numeros dentro de la matriz   \n",
        "print(matriz)       #Imprimir la matriz que tenemos \n",
        "\n",
        "print(\"LA INVERSA DE LA MATRIZ ES: \")\n",
        "np.linalg.inv(matriz)\n",
        "\n"
      ]
    },
    {
      "cell_type": "markdown",
      "source": [
        "CALCULA LA DETERMINANTE DE UNA MATRIZ "
      ],
      "metadata": {
        "id": "ijJMtUyyVXM1"
      }
    },
    {
      "cell_type": "code",
      "source": [
        "import numpy as np\n",
        "a= int(input('Numero de renglones: '))  #Aqui pedimos al usario el numero de renglones y columnas  \n",
        "b= int(input('Numero de columnas: '))\n",
        "matriz = numpy.zeros((a,b))     #es para llenar la matriz con ceros \n",
        "vector= numpy.zeros((b))        #alamcenar los valores del vector \n",
        "x=numpy.zeros((a))              #alamcenar los resultados despues del proceso de operacion \n",
        "print('Introduce la matriz de coeficientes')\n",
        "\n",
        "for r in range(0,a):        #r= son los renglones\n",
        "    for c in range(0,b):    #c = son las columnas \n",
        "        matriz[(r),(c)]=(input(\"Elemento a[\"+str(r+1)+\",\"+str(c+1)+\"] \"))   #escribir los numeros dentro de la matriz   \n",
        "print(matriz)       #Imprimir la matriz que tenemos \n",
        "\n",
        "print(\"LA DETERMINANTE DE LA MATRIZ ES:\")\n",
        "np.linalg.det(matriz)"
      ],
      "metadata": {
        "colab": {
          "base_uri": "https://localhost:8080/"
        },
        "id": "rq72UtaGVPd3",
        "outputId": "e50a55b9-2ea4-4fc5-d95c-663202dc600c"
      },
      "execution_count": 37,
      "outputs": [
        {
          "output_type": "stream",
          "name": "stdout",
          "text": [
            "Numero de renglones: 2\n",
            "Numero de columnas: 2\n",
            "Introduce la matriz de coeficientes\n",
            "Elemento a[1,1] 3\n",
            "Elemento a[1,2] -1\n",
            "Elemento a[2,1] -2\n",
            "Elemento a[2,2] 2\n",
            "[[ 3. -1.]\n",
            " [-2.  2.]]\n",
            "LA DETERMINANTE DE LA MATRIZ ES:\n"
          ]
        },
        {
          "output_type": "execute_result",
          "data": {
            "text/plain": [
              "4.000000000000001"
            ]
          },
          "metadata": {},
          "execution_count": 37
        }
      ]
    }
  ]
}